{
 "cells": [
  {
   "cell_type": "markdown",
   "id": "a41f3622",
   "metadata": {},
   "source": [
    "# Ejercicios de probabilidad"
   ]
  },
  {
   "cell_type": "markdown",
   "id": "a6bdbd89",
   "metadata": {},
   "source": [
    "## Ejercicio 1 \n",
    "\n",
    "Dos dados se lanzan una vez y se observa el total obtenido. Usa una simulación para encontrar la probabilidad estimada de que la puntuación sea mayor a 7 o un número par. Una simulación es una repetición del mismo experimento multiples veces para observar su comportamiento:\n",
    "\n",
    "- Ejecuta el experimento 1000 veces (lanza 2 dados 1000 veces, y suma el número de ambos dados).\n",
    "- Lleva ua cuenta de los números y las veces que la suma fue mayor a 7 o un número par.\n",
    "- Divide el número del paso 2 entre el número de iteraciones(1000)."
   ]
  },
  {
   "cell_type": "code",
   "execution_count": 1,
   "id": "8939d892",
   "metadata": {},
   "outputs": [
    {
     "name": "stdout",
     "output_type": "stream",
     "text": [
      "La probabilidad de obtener un número par o mayor que 7 es: 68.6%\n"
     ]
    }
   ],
   "source": [
    "import random\n",
    "import numpy as np\n",
    "\n",
    "def roll_the_dice(n_simulations=1000):\n",
    "    # Generar los lanzamientos de los dados\n",
    "    die1 = np.random.randint(1, 7, size=n_simulations)\n",
    "    die2 = np.random.randint(1, 7, size=n_simulations)\n",
    "    \n",
    "    # Sumar los resultados de ambos dados\n",
    "    scores = die1 + die2\n",
    "    \n",
    "    # Verificar si el puntaje cumple con alguna condición\n",
    "    condition = (scores % 2 == 0) | (scores > 7)\n",
    "    \n",
    "    # Calcular la probabilidad\n",
    "    return np.mean(condition)\n",
    "\n",
    "probability = roll_the_dice()\n",
    "print(f\"La probabilidad de obtener un número par o mayor que 7 es: {np.round(probability * 100, 2)}%\")\n"
   ]
  },
  {
   "cell_type": "markdown",
   "id": "55732bca",
   "metadata": {},
   "source": [
    "## Ejercicio 2\n",
    "\n",
    "Una caja contiene 10 bolas blancas, 20 bolas rojas y 30 bolas verdes. Si tomamos 5 bolas de la caja reemplazándolas (tomando una bola, anotando el color y luego regresandola a la caja). Queremos saber la probabilidad de:\n",
    "\n",
    "1. Tomar 3 blancas y 2 rojas.\n",
    "2. Toas todas del mismo color.\n",
    "\n",
    "Ejecuta el experimento 1000 veces y calcula las probabilidades que mencionadas."
   ]
  },
  {
   "cell_type": "code",
   "execution_count": 2,
   "id": "23244d20",
   "metadata": {},
   "outputs": [
    {
     "name": "stdout",
     "output_type": "stream",
     "text": [
      "La probabilidad de 3 bolas blancas y 2 rojas es: 0.4%\n",
      "La probabilidad de todas del mismo color es: 3.6%\n"
     ]
    }
   ],
   "source": [
    "import numpy as np\n",
    "\n",
    "# Crear la caja de bolas\n",
    "ball_box = [\"White\"] * 10 + [\"Red\"] * 20 + [\"Green\"] * 30\n",
    "\n",
    "def tomar_bolas(n_simulaciones=1000):\n",
    "    cuenta_1 = 0\n",
    "    cuenta_2 = 0\n",
    "\n",
    "    for _ in range(n_simulaciones):\n",
    "        # Sacar 5 bolas de la caja\n",
    "        colores = np.random.choice(ball_box, size=5)\n",
    "\n",
    "        # Contar las ocurrencias de cada color\n",
    "        bolas_blancas = np.count_nonzero(colores == \"White\")\n",
    "        bolas_rojas = np.count_nonzero(colores == \"Red\")\n",
    "        bolas_verdes = np.count_nonzero(colores == \"Green\")\n",
    "\n",
    "        # Verificar las condiciones de cada caso\n",
    "        if bolas_blancas == 3 and bolas_rojas == 2:\n",
    "            cuenta_1 += 1\n",
    "        \n",
    "        if bolas_blancas == 5 or bolas_rojas == 5 or bolas_verdes == 5:\n",
    "            cuenta_2 += 1\n",
    "    \n",
    "    return cuenta_1 / n_simulaciones, cuenta_2 / n_simulaciones\n",
    "\n",
    "probabilidades = tomar_bolas(1000)\n",
    "\n",
    "print(f\"La probabilidad de 3 bolas blancas y 2 rojas es: {np.round(probabilidades[0] * 100, 2)}%\")\n",
    "print(f\"La probabilidad de todas del mismo color es: {np.round(probabilidades[1] * 100, 2)}%\")\n"
   ]
  }
 ],
 "metadata": {
  "kernelspec": {
   "display_name": "Python 3",
   "language": "python",
   "name": "python3"
  },
  "language_info": {
   "codemirror_mode": {
    "name": "ipython",
    "version": 3
   },
   "file_extension": ".py",
   "mimetype": "text/x-python",
   "name": "python",
   "nbconvert_exporter": "python",
   "pygments_lexer": "ipython3",
   "version": "3.11.4"
  }
 },
 "nbformat": 4,
 "nbformat_minor": 5
}
